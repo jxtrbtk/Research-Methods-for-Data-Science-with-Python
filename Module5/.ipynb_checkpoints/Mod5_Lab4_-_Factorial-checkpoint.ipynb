{
 "cells": [
  {
   "cell_type": "markdown",
   "metadata": {},
   "source": [
    "Module 5, Lab 4 - Factorial Designs\n",
    "===================================\n",
    "\n",
    "In this lab, we will explore the factorial experiment. I analyze the\n",
    "data from the previous lab but using a factorial design. I assume you\n",
    "are familiar with the between subjects lab, conducted previously. In\n",
    "this lab, we consider whether the three logos have different effects for\n",
    "males or females, a question which marketing wants to know prior to\n",
    "pushing the ad to different markets.\n",
    "\n",
    "Before we begin, I will load the packages required to run this notebook:"
   ]
  },
  {
   "cell_type": "code",
   "execution_count": 1,
   "metadata": {},
   "outputs": [],
   "source": [
    "## LOAD PACKAGES \n",
    "import pandas as pd\n",
    "import numpy as np\n",
    "import scipy.stats as ss\n",
    "from statsmodels.formula.api import ols\n",
    "from statsmodels.stats.anova import anova_lm\n",
    "from statsmodels.stats.multicomp import pairwise_tukeyhsd\n",
    "from statsmodels.graphics.factorplots import interaction_plot\n",
    "import seaborn as sns\n",
    "import matplotlib.pyplot as plt\n",
    "\n",
    "%matplotlib inline"
   ]
  },
  {
   "cell_type": "markdown",
   "metadata": {},
   "source": [
    "Next, the dataset is loaded and the sentiment is computed:"
   ]
  },
  {
   "cell_type": "code",
   "execution_count": 2,
   "metadata": {},
   "outputs": [
    {
     "data": {
      "text/html": [
       "<div>\n",
       "<style scoped>\n",
       "    .dataframe tbody tr th:only-of-type {\n",
       "        vertical-align: middle;\n",
       "    }\n",
       "\n",
       "    .dataframe tbody tr th {\n",
       "        vertical-align: top;\n",
       "    }\n",
       "\n",
       "    .dataframe thead th {\n",
       "        text-align: right;\n",
       "    }\n",
       "</style>\n",
       "<table border=\"1\" class=\"dataframe\">\n",
       "  <thead>\n",
       "    <tr style=\"text-align: right;\">\n",
       "      <th></th>\n",
       "      <th>id</th>\n",
       "      <th>friendly</th>\n",
       "      <th>inviting</th>\n",
       "      <th>interesting</th>\n",
       "      <th>positive</th>\n",
       "      <th>pleasant</th>\n",
       "      <th>sex</th>\n",
       "      <th>logo</th>\n",
       "      <th>sentiment</th>\n",
       "    </tr>\n",
       "  </thead>\n",
       "  <tbody>\n",
       "    <tr>\n",
       "      <th>0</th>\n",
       "      <td>3</td>\n",
       "      <td>9</td>\n",
       "      <td>8</td>\n",
       "      <td>9</td>\n",
       "      <td>10</td>\n",
       "      <td>9</td>\n",
       "      <td>f</td>\n",
       "      <td>Logo A</td>\n",
       "      <td>9.0</td>\n",
       "    </tr>\n",
       "    <tr>\n",
       "      <th>1</th>\n",
       "      <td>98</td>\n",
       "      <td>7</td>\n",
       "      <td>6</td>\n",
       "      <td>8</td>\n",
       "      <td>7</td>\n",
       "      <td>7</td>\n",
       "      <td>f</td>\n",
       "      <td>Logo C</td>\n",
       "      <td>7.0</td>\n",
       "    </tr>\n",
       "    <tr>\n",
       "      <th>2</th>\n",
       "      <td>73</td>\n",
       "      <td>5</td>\n",
       "      <td>3</td>\n",
       "      <td>6</td>\n",
       "      <td>6</td>\n",
       "      <td>6</td>\n",
       "      <td>m</td>\n",
       "      <td>Logo C</td>\n",
       "      <td>5.2</td>\n",
       "    </tr>\n",
       "    <tr>\n",
       "      <th>3</th>\n",
       "      <td>89</td>\n",
       "      <td>4</td>\n",
       "      <td>5</td>\n",
       "      <td>2</td>\n",
       "      <td>3</td>\n",
       "      <td>4</td>\n",
       "      <td>f</td>\n",
       "      <td>Logo C</td>\n",
       "      <td>3.6</td>\n",
       "    </tr>\n",
       "    <tr>\n",
       "      <th>4</th>\n",
       "      <td>13</td>\n",
       "      <td>8</td>\n",
       "      <td>7</td>\n",
       "      <td>9</td>\n",
       "      <td>8</td>\n",
       "      <td>6</td>\n",
       "      <td>f</td>\n",
       "      <td>Logo A</td>\n",
       "      <td>7.6</td>\n",
       "    </tr>\n",
       "  </tbody>\n",
       "</table>\n",
       "</div>"
      ],
      "text/plain": [
       "   id  friendly  inviting  interesting  positive  pleasant sex    logo  \\\n",
       "0   3         9         8            9        10         9   f  Logo A   \n",
       "1  98         7         6            8         7         7   f  Logo C   \n",
       "2  73         5         3            6         6         6   m  Logo C   \n",
       "3  89         4         5            2         3         4   f  Logo C   \n",
       "4  13         8         7            9         8         6   f  Logo A   \n",
       "\n",
       "   sentiment  \n",
       "0        9.0  \n",
       "1        7.0  \n",
       "2        5.2  \n",
       "3        3.6  \n",
       "4        7.6  "
      ]
     },
     "execution_count": 2,
     "metadata": {},
     "output_type": "execute_result"
    }
   ],
   "source": [
    "## Load the dataset\n",
    "dat = pd.read_csv(\"datasets/logos.csv\")\n",
    "\n",
    "## Remove rows with missing values \n",
    "dat.dropna(subset = ['logo'], inplace = True)\n",
    "\n",
    "## Compute sentiment and look at the head of the data frame.\n",
    "dat['sentiment'] = dat[['friendly', 'inviting', 'interesting', 'positive', 'pleasant']].apply(np.mean, axis = 1)\n",
    "dat.head()"
   ]
  },
  {
   "cell_type": "markdown",
   "metadata": {},
   "source": [
    "Finally, we need the specialized Python pyDOE package for designed experiments, which must be installed and imported:"
   ]
  },
  {
   "cell_type": "markdown",
   "metadata": {},
   "source": [
    "Vizualize the Data + Run Descriptives\n",
    "=====================================\n",
    "\n",
    "In a factorial design, we randomly assign a second treatment in addition\n",
    "to the first. For example, we could also make 50% of the logos in color\n",
    "and 50% in grey scale. Thus we would randomly assign people to one of\n",
    "the designs (3 levels: A, B, and C) and one of the colors (2 levels:\n",
    "color, grey scale). For this reason, this is referred to as a 2 x 3\n",
    "factorial design.\n",
    "\n",
    "One need not randomly assign the variable. One can also use a\n",
    "pre-existing grouping variable, such as sex. One caveat is needed,\n",
    "however; if the grouping variable was not randomly assigned to\n",
    "participants (e.g., favorite color), we cannot be sure if any observed\n",
    "effect is due to that variable or something else that might be causing\n",
    "it. For example, if participants who love the color purple tend to\n",
    "prefer Logo B, we don't know if that logo preference is due to the color\n",
    "or something else that might cause that color preference (see the\n",
    "discussion on prior causes in the regression lab).\n",
    "\n",
    "In our case, we will examine a 2 (sex: male, female) x 3 (logo: A, B, C)\n",
    "design. These combinations define our *factorial design**.\n",
    "Although it is true that sex was not randomly assigned by the\n",
    "research team to participants, biological sex is randomly assigned at\n",
    "birth and has no known prior causes. Thus, any differences we see\n",
    "between the sexes can be ultimately assumed to result from sex.\n",
    "\n",
    "We can easily visualize our data using the seaborn package. You already performed visualization of sentiment by logo in a previous lab. Now, you can create a visualization by sex. "
   ]
  },
  {
   "cell_type": "code",
   "execution_count": 3,
   "metadata": {},
   "outputs": [
    {
     "data": {
      "text/plain": [
       "<matplotlib.axes._subplots.AxesSubplot at 0x27b314baa48>"
      ]
     },
     "execution_count": 3,
     "metadata": {},
     "output_type": "execute_result"
    },
    {
     "data": {
      "image/png": "[encoded data removed]",
      "text/plain": [
       "<Figure size 576x576 with 1 Axes>"
      ]
     },
     "metadata": {
      "needs_background": "light"
     },
     "output_type": "display_data"
    }
   ],
   "source": [
    "ax = plt.figure(figsize=(8,8)).gca() # define axis\n",
    "sns.boxplot(x = 'sex', y = 'sentiment', data = dat, ax = ax)\n",
    "sns.swarmplot(x = 'sex', y = 'sentiment', color = 'black', data = dat, ax = ax, alpha = 0.4)"
   ]
  },
  {
   "cell_type": "markdown",
   "metadata": {},
   "source": [
    "There is not a great deal of difference in sentiment by sex. \n",
    "\n",
    "Now, you will visualize the interaction between sentiment and logo and sex. In this case we use the `hue` arguments to differentiate between male and female:"
   ]
  },
  {
   "cell_type": "code",
   "execution_count": 4,
   "metadata": {},
   "outputs": [
    {
     "data": {
      "text/plain": [
       "<matplotlib.axes._subplots.AxesSubplot at 0x27b332e42c8>"
      ]
     },
     "execution_count": 4,
     "metadata": {},
     "output_type": "execute_result"
    },
    {
     "data": {
      "image/png": "[encoded data removed]",
      "text/plain": [
       "<Figure size 576x576 with 1 Axes>"
      ]
     },
     "metadata": {
      "needs_background": "light"
     },
     "output_type": "display_data"
    }
   ],
   "source": [
    "ax = plt.figure(figsize=(8,8)).gca() # define axis\n",
    "sns.boxplot(x = 'logo', y = 'sentiment', data = dat, hue = 'sex', ax = ax)\n",
    "sns.swarmplot(x = 'logo', y = 'sentiment', hue = 'sex', data = dat, ax = ax, alpha = 0.4)"
   ]
  },
  {
   "cell_type": "markdown",
   "metadata": {},
   "source": [
    "We do not see any large systematic differences in the overall levels of\n",
    "sentiment for males or females, nor do we see a substantively different\n",
    "pattern of liking across the three logos for males or females. Thus,\n",
    "perhaps sex does not matter much. \n",
    "\n",
    "The Pandas `groupby` method can operate on multiple grouping columns. The code in the cell below groups the data by levels of both `logo` and `sex` and then computes and displays the mean and standard deviation:"
   ]
  },
  {
   "cell_type": "code",
   "execution_count": 5,
   "metadata": {},
   "outputs": [
    {
     "name": "stdout",
     "output_type": "stream",
     "text": [
      "The means of the groups:\n",
      "            sentiment\n",
      "logo   sex           \n",
      "Logo A f     8.808333\n",
      "       m     7.955556\n",
      "Logo B f     8.340000\n",
      "       m     8.616667\n",
      "Logo C f     7.054545\n",
      "       m     6.900000\n",
      "\n",
      "\n",
      "The standard deviations of the groups:\n",
      "            sentiment\n",
      "logo   sex           \n",
      "Logo A f     1.197794\n",
      "       m     1.318248\n",
      "Logo B f     1.471269\n",
      "       m     1.621354\n",
      "Logo C f     1.403644\n",
      "       m     1.237299\n"
     ]
    }
   ],
   "source": [
    "dat_grouped = dat[['sentiment','logo','sex']].groupby(['logo','sex'])\n",
    "print('The means of the groups:')\n",
    "print(dat_grouped.mean())\n",
    "print('\\n')\n",
    "print('The standard deviations of the groups:')\n",
    "print(dat_grouped.std())"
   ]
  },
  {
   "cell_type": "markdown",
   "metadata": {},
   "source": [
    "As you could see from the box plots, there is some difference in the means of these groups. Additionally, the variance of the groups varies a fair amount. This lack of *homogeneity of variance* between the groups violates one of the assumptions of ANOVA and may prove to be a problem.  \n",
    "\n",
    "Next, we can conduct the factorial ANOVA. In general, the ANOVA assesses\n",
    "whether:\n",
    "\n",
    "1.  There are significant differences between the two sexes (similar to\n",
    "    a one-way ANOVA or t-test)\n",
    "2.  There are significant differences between the three logos (similar\n",
    "    to a one-way ANOVA or t-test)\n",
    "3.  The two variables interact\n",
    "\n",
    "I consider these three questions next.\n",
    "\n",
    "Example with Interaction Term:\n",
    "==============================\n",
    "\n",
    "Now we need to create an ANOVA model with the *interaction term* between `sex` and `logo`. An interaction term is just what you might think. Interactions are cases where \"one variable influences the effect of\n",
    "another.\" So, the sex x logo interaction is asking: \"is there a\n",
    "different pattern of differences between the logos for males than for\n",
    "females?\" This is not the same as asking whether males or females have\n",
    "different levels of sentiment. Instead, we are asking whether the effect\n",
    "of `logo` is different at different levels of `sex`. You can also reverse this. This is the same as asking whether the effect\n",
    "of `sex` is different across the three `logos`. An interaction is\n",
    "essentially one variable influencing the effectiveness of another.\n",
    "\n",
    "Factorial ANOVA designs can get tricky. The best way to conduct the\n",
    "analysis for real-world data in Python is to use the `ols` function from statsmodels.formula.api package. The `anova_lm` function from the statsmodels.stats.anova package is then applied to the linear model object created with `ols` We need to select the \"type\" of ANOVA analysis. Since we are including an interaction term in our design we will use `type = 3`. \n",
    "\n",
    "Note that the strictly speaking, the\n",
    "`aov_lm()` model assumes perfectly\n",
    "balanced factorial designs (equal numbers of people in every permutation\n",
    "of the experiment, no missing data). This assumption is not adhered to in this case. \n",
    "\n",
    "The `ols` function uses a *model formula* of the form:\n",
    "\n",
    "$$dependent variable \\sim independent_var1\\ +\\ independent_var2\\ + \\ldots +\\ independent_var1:independent_var2 \\\\\n",
    "where\\\\\n",
    "independent_var1:independent_var2 = interaction\\ term$$\n",
    "\n",
    "Such model formulas give us a great deal of flexibility in defining factorial design of our experiment:"
   ]
  },
  {
   "cell_type": "code",
   "execution_count": 6,
   "metadata": {},
   "outputs": [
    {
     "name": "stdout",
     "output_type": "stream",
     "text": [
      "                    sum_sq    df          F    PR(>F)\n",
      "C(logo)          50.649749   2.0  13.446086  0.000007\n",
      "C(sex)            1.015771   1.0   0.539318  0.464563\n",
      "C(logo):C(sex)    4.503817   2.0   1.195637  0.307118\n",
      "Residual        175.159768  93.0        NaN       NaN\n"
     ]
    }
   ],
   "source": [
    "formula = 'sentiment ~ C(logo) + C(sex) + C(logo):C(sex)'\n",
    "lm_model = ols(formula, dat).fit()\n",
    "aov_table = anova_lm(lm_model, typ=2)\n",
    "print(aov_table)"
   ]
  },
  {
   "cell_type": "markdown",
   "metadata": {},
   "source": [
    "What can you make of this output? You can be interpret these results as follows:\n",
    "\n",
    "1.  There is not a significant sex difference overall, since the F-statistic is small and the p-value is large. \n",
    "2.  There are significant differences between the logos, since the F-statistic is large and the p-value is small. \n",
    "3.  There is not a significant \"interaction\" between sex and logo, since the F-statistic is small and the p-value is large.\n",
    "\n",
    "It's worth remembering that a non-significant effect does *not* mean\n",
    "that there is zero effect. We can easily see the 95% CIs for our\n",
    "\"non-significant\" effects with Tukey's HSD test. This must be done in two steps:\n",
    "\n",
    "1. Create a new variable which represents the interaction term before `sex` and `logo`.\n",
    "2. Compute and display the results of the Tukey HSD on the interaction term. "
   ]
  },
  {
   "cell_type": "code",
   "execution_count": 7,
   "metadata": {},
   "outputs": [
    {
     "name": "stdout",
     "output_type": "stream",
     "text": [
      " Multiple Comparison of Means - Tukey HSD, FWER=0.05  \n",
      "======================================================\n",
      " group1  group2 meandiff p-adj   lower   upper  reject\n",
      "------------------------------------------------------\n",
      "LogoA_f LogoA_m  -0.8528 0.5931 -2.4137  0.7082  False\n",
      "LogoA_f LogoB_f  -0.4683 0.8563 -1.6774  0.7408  False\n",
      "LogoA_f LogoB_m  -0.1917    0.9 -1.6036  1.2203  False\n",
      "LogoA_f LogoC_f  -1.7538  0.001 -2.9325  -0.575   True\n",
      "LogoA_f LogoC_m  -1.9083 0.0022 -3.3203 -0.4964   True\n",
      "LogoA_m LogoB_f   0.3844    0.9 -1.2185  1.9874  False\n",
      "LogoA_m LogoB_m   0.6611 0.8761 -1.0999  2.4221  False\n",
      "LogoA_m LogoC_f   -0.901 0.5536 -2.4812  0.6792  False\n",
      "LogoA_m LogoC_m  -1.0556 0.5052 -2.8165  0.7054  False\n",
      "LogoB_f LogoB_m   0.2767    0.9 -1.1816  1.7349  False\n",
      "LogoB_f LogoC_f  -1.2855 0.0361 -2.5193 -0.0516   True\n",
      "LogoB_f LogoC_m    -1.44  0.055 -2.8982  0.0182  False\n",
      "LogoB_m LogoC_f  -1.5621 0.0244 -2.9953  -0.129   True\n",
      "LogoB_m LogoC_m  -1.7167  0.033  -3.347 -0.0863   True\n",
      "LogoC_f LogoC_m  -0.1545    0.9 -1.5877  1.2786  False\n",
      "------------------------------------------------------\n"
     ]
    },
    {
     "data": {
      "image/png": "[encoded data removed]",
      "text/plain": [
       "<Figure size 720x432 with 1 Axes>"
      ]
     },
     "execution_count": 7,
     "metadata": {},
     "output_type": "execute_result"
    },
    {
     "data": {
      "image/png": "[encoded data removed]",
      "text/plain": [
       "<Figure size 720x432 with 1 Axes>"
      ]
     },
     "metadata": {
      "needs_background": "light"
     },
     "output_type": "display_data"
    }
   ],
   "source": [
    "## Create a new variable to represent the interaction term\n",
    "dat['logo_sex'] = [x.replace(\" \", \"\") + '_' + y for x,y in zip(dat.logo,dat.sex)]\n",
    "\n",
    "# Run the Tukey HDS test using the interaction variable and display the results\n",
    "Tukey_HSD = pairwise_tukeyhsd(dat.sentiment,dat.logo_sex)\n",
    "print(Tukey_HSD)\n",
    "Tukey_HSD.plot_simultaneous()"
   ]
  },
  {
   "cell_type": "markdown",
   "metadata": {},
   "source": [
    "For the most part, it is the differences between logo C and the other logos that are significant, for either sex. The one exception, is logo A for male subjects which has an exceptionally wide confidence interval. "
   ]
  }
 ],
 "metadata": {
  "kernelspec": {
   "display_name": "Python 3",
   "language": "python",
   "name": "python3"
  },
  "language_info": {
   "codemirror_mode": {
    "name": "ipython",
    "version": 3
   },
   "file_extension": ".py",
   "mimetype": "text/x-python",
   "name": "python",
   "nbconvert_exporter": "python",
   "pygments_lexer": "ipython3",
   "version": "3.7.5"
  }
 },
 "nbformat": 4,
 "nbformat_minor": 2
}
