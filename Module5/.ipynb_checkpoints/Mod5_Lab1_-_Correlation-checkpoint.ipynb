{
 "cells": [
  {
   "cell_type": "markdown",
   "metadata": {},
   "source": [
    "Module 5, Lab 1 - Correlation\n",
    "=============================\n",
    "\n",
    "This final series of labs explores everything you need to execute\n",
    "projects from start to finish based on a few different analyses.\n",
    "\n",
    "In this lab, we will explore how to assess relationships between\n",
    "variables using correlation in R.\n",
    "\n",
    "In this example, we have a dataset, inspired by a dataset published on\n",
    "kaggle (<https://www.kaggle.com/unsdsn/world-happiness>). In this\n",
    "dataset, several regions of the world are compared on dimensions such as\n",
    "their generosity, happiness, GDP, and so forth.\n",
    "\n",
    "Load Packages\n",
    "=============\n",
    "\n",
    "In this lab, we will use the `ggplot2` package for data visualization,\n",
    "the `corrplot` package for making visual correlation tables, and the\n",
    "`psych` package for detecting skew and making correlation matrices."
   ]
  },
  {
   "cell_type": "code",
   "execution_count": 1,
   "metadata": {},
   "outputs": [],
   "source": [
    "## Load packages\n",
    "import pandas as pd\n",
    "import numpy as np\n",
    "import scipy.stats as ss\n",
    "import math\n",
    "import scipy.cluster.hierarchy as sch\n",
    "import seaborn as sns\n",
    "import matplotlib.pyplot as plt\n",
    "\n",
    "%matplotlib inline"
   ]
  },
  {
   "cell_type": "markdown",
   "metadata": {},
   "source": [
    "Load Data\n",
    "=========\n",
    "\n",
    "Next, let's load the data."
   ]
  },
  {
   "cell_type": "code",
   "execution_count": 2,
   "metadata": {},
   "outputs": [],
   "source": [
    "#### LOAD DATA ####\n",
    "dat = pd. read_csv(\"datasets/regionalhappy.csv\")"
   ]
  },
  {
   "cell_type": "markdown",
   "metadata": {},
   "source": [
    "Inspecting the dataset, we see the names are a little messy:"
   ]
  },
  {
   "cell_type": "code",
   "execution_count": 3,
   "metadata": {},
   "outputs": [
    {
     "data": {
      "text/plain": [
       "Index(['Happiness.Score', 'Economy..GDP.per.Capita.', 'Family',\n",
       "       'Health..Life.Expectancy.', 'Freedom', 'Generosity',\n",
       "       'Trust..Government.Corruption.', 'Dystopia.Residual'],\n",
       "      dtype='object')"
      ]
     },
     "execution_count": 3,
     "metadata": {},
     "output_type": "execute_result"
    }
   ],
   "source": [
    "dat.columns"
   ]
  },
  {
   "cell_type": "markdown",
   "metadata": {},
   "source": [
    "We can rename them easily by assigning names to the `columns` attribute of the data frame:"
   ]
  },
  {
   "cell_type": "code",
   "execution_count": 4,
   "metadata": {},
   "outputs": [
    {
     "data": {
      "text/plain": [
       "Index(['Happiness', 'GDP', 'Family', 'Life_Expect', 'Freedom', 'Generosity',\n",
       "       'Trust_Gov', 'Dystopia'],\n",
       "      dtype='object')"
      ]
     },
     "execution_count": 4,
     "metadata": {},
     "output_type": "execute_result"
    }
   ],
   "source": [
    "dat.columns = [\"Happiness\", \"GDP\", \"Family\", \"Life_Expect\", \"Freedom\", \"Generosity\", \"Trust_Gov\", \"Dystopia\"]\n",
    "dat.columns"
   ]
  },
  {
   "cell_type": "markdown",
   "metadata": {},
   "source": [
    "Let's look at the first few rows of the data:"
   ]
  },
  {
   "cell_type": "code",
   "execution_count": 5,
   "metadata": {},
   "outputs": [
    {
     "data": {
      "text/html": [
       "<div>\n",
       "<style scoped>\n",
       "    .dataframe tbody tr th:only-of-type {\n",
       "        vertical-align: middle;\n",
       "    }\n",
       "\n",
       "    .dataframe tbody tr th {\n",
       "        vertical-align: top;\n",
       "    }\n",
       "\n",
       "    .dataframe thead th {\n",
       "        text-align: right;\n",
       "    }\n",
       "</style>\n",
       "<table border=\"1\" class=\"dataframe\">\n",
       "  <thead>\n",
       "    <tr style=\"text-align: right;\">\n",
       "      <th></th>\n",
       "      <th>Happiness</th>\n",
       "      <th>GDP</th>\n",
       "      <th>Family</th>\n",
       "      <th>Life_Expect</th>\n",
       "      <th>Freedom</th>\n",
       "      <th>Generosity</th>\n",
       "      <th>Trust_Gov</th>\n",
       "      <th>Dystopia</th>\n",
       "    </tr>\n",
       "  </thead>\n",
       "  <tbody>\n",
       "    <tr>\n",
       "      <th>0</th>\n",
       "      <td>7.537</td>\n",
       "      <td>1.616463</td>\n",
       "      <td>1.533524</td>\n",
       "      <td>0.796667</td>\n",
       "      <td>0.635423</td>\n",
       "      <td>0.362012</td>\n",
       "      <td>0.315964</td>\n",
       "      <td>2.277027</td>\n",
       "    </tr>\n",
       "    <tr>\n",
       "      <th>1</th>\n",
       "      <td>7.522</td>\n",
       "      <td>1.482383</td>\n",
       "      <td>1.551122</td>\n",
       "      <td>0.792566</td>\n",
       "      <td>0.626007</td>\n",
       "      <td>0.355280</td>\n",
       "      <td>0.400770</td>\n",
       "      <td>2.313707</td>\n",
       "    </tr>\n",
       "    <tr>\n",
       "      <th>2</th>\n",
       "      <td>7.504</td>\n",
       "      <td>1.480633</td>\n",
       "      <td>1.610574</td>\n",
       "      <td>0.833552</td>\n",
       "      <td>0.627163</td>\n",
       "      <td>0.475540</td>\n",
       "      <td>0.153527</td>\n",
       "      <td>2.322715</td>\n",
       "    </tr>\n",
       "    <tr>\n",
       "      <th>3</th>\n",
       "      <td>7.494</td>\n",
       "      <td>1.564980</td>\n",
       "      <td>1.516912</td>\n",
       "      <td>0.858131</td>\n",
       "      <td>0.620071</td>\n",
       "      <td>0.290549</td>\n",
       "      <td>0.367007</td>\n",
       "      <td>2.276716</td>\n",
       "    </tr>\n",
       "    <tr>\n",
       "      <th>4</th>\n",
       "      <td>7.469</td>\n",
       "      <td>1.443572</td>\n",
       "      <td>1.540247</td>\n",
       "      <td>0.809158</td>\n",
       "      <td>0.617951</td>\n",
       "      <td>0.245483</td>\n",
       "      <td>0.382612</td>\n",
       "      <td>2.430182</td>\n",
       "    </tr>\n",
       "  </tbody>\n",
       "</table>\n",
       "</div>"
      ],
      "text/plain": [
       "   Happiness       GDP    Family  Life_Expect   Freedom  Generosity  \\\n",
       "0      7.537  1.616463  1.533524     0.796667  0.635423    0.362012   \n",
       "1      7.522  1.482383  1.551122     0.792566  0.626007    0.355280   \n",
       "2      7.504  1.480633  1.610574     0.833552  0.627163    0.475540   \n",
       "3      7.494  1.564980  1.516912     0.858131  0.620071    0.290549   \n",
       "4      7.469  1.443572  1.540247     0.809158  0.617951    0.245483   \n",
       "\n",
       "   Trust_Gov  Dystopia  \n",
       "0   0.315964  2.277027  \n",
       "1   0.400770  2.313707  \n",
       "2   0.153527  2.322715  \n",
       "3   0.367007  2.276716  \n",
       "4   0.382612  2.430182  "
      ]
     },
     "execution_count": 5,
     "metadata": {},
     "output_type": "execute_result"
    }
   ],
   "source": [
    "dat.head()"
   ]
  },
  {
   "cell_type": "markdown",
   "metadata": {},
   "source": [
    "Much better.\n",
    "\n",
    "Bivariate Correlation\n",
    "=====================\n",
    "\n",
    "Next, let's see how variables correlate. In our research study, we want\n",
    "to understand happiness. We can compute correlations between variables\n",
    "with the Pandas `corr()` method. The upper or lower off-diagonal elements of the 2X2 correlation matrix contain the correlation coefficients. The Pandas `iloc` method allows you to address these elements using numerical indicies. "
   ]
  },
  {
   "cell_type": "code",
   "execution_count": 6,
   "metadata": {},
   "outputs": [
    {
     "data": {
      "text/plain": [
       "0.782"
      ]
     },
     "execution_count": 6,
     "metadata": {},
     "output_type": "execute_result"
    }
   ],
   "source": [
    "corr_mat = dat[['Happiness', 'Life_Expect']].corr()\n",
    "corr_mat.iloc[1,0].round(3)"
   ]
  },
  {
   "cell_type": "markdown",
   "metadata": {},
   "source": [
    "We see the correlation is *r* = .78. A brief refresher: correlations\n",
    "range between zero (no association between variables) and 1.0 (a\n",
    "one-to-one association). They can also be positive (as one variable\n",
    "increases, so does the other) or negative (as one variable increases,\n",
    "the other decreases).\n",
    "\n",
    "So, in this case, we have a large, positive link between the happiness\n",
    "of a region and health / life expectancy in that region. The\n",
    "statistician Jacob Cohen suggested the following guidelines:\n",
    "\n",
    "|        | Correlation          | Meaning  |\n",
    "| ------------- |:-------------:|-----------:|\n",
    "| 1.  | 0 - 0.1 | Negligible |\n",
    "| 2.  | 0.1 - 0.3     |  Small |\n",
    "| 3. | 0.3 - 0.5      |  Medium |\n",
    "| 4. | 0.50 +      |  Large |"
   ]
  },
  {
   "cell_type": "markdown",
   "metadata": {},
   "source": [
    "We see, then, that this association would count as \"large\" by Cohen's\n",
    "guidelines.\n",
    "\n",
    "We can also easily visualize this correlation with `ggplot2`:"
   ]
  },
  {
   "cell_type": "code",
   "execution_count": 7,
   "metadata": {},
   "outputs": [
    {
     "data": {
      "text/plain": [
       "<matplotlib.axes._subplots.AxesSubplot at 0x277edd6ee08>"
      ]
     },
     "execution_count": 7,
     "metadata": {},
     "output_type": "execute_result"
    },
    {
     "data": {
      "image/png": "[encoded data removed]",
      "text/plain": [
       "<Figure size 576x576 with 1 Axes>"
      ]
     },
     "metadata": {
      "needs_background": "light"
     },
     "output_type": "display_data"
    }
   ],
   "source": [
    "ax = plt.figure(figsize=(8, 8)).gca() # define axis\n",
    "dat.plot.scatter(x = 'Happiness', y = 'Life_Expect', ax = ax, alpha = 0.4)"
   ]
  },
  {
   "cell_type": "markdown",
   "metadata": {},
   "source": [
    "\n",
    "\n",
    "### A Sample Estimate\n",
    "\n",
    "We have discussed statistical hypothesis testing a number of times in\n",
    "this course, but we haven't yet discussed it in detail with respect to\n",
    "correlations. So, here is a brief refresher on the need for significance\n",
    "testing, applied to correlation.\n",
    "\n",
    "Here, are working with a sample of regions at one point in time. What if\n",
    "we wanted to estimate, in a broader way, the association between\n",
    "happiness and life expectancy? Assuming our data are representative of\n",
    "the broader population (e.g., across times, regions, etc.; a big\n",
    "assumption!), we could use this sample correlation (symbol: *r* = .78)\n",
    "as an estimate of the population correlation (symbol: *ρ*). In other\n",
    "words, we don't know the true correlation between happiness and life\n",
    "expectancy in the population, but if we can trust this data to\n",
    "adequately represent it, we can *estimate* it at .78.\n",
    "\n",
    "The estimation piece is important. Often, people look at the sample\n",
    "correlation and don't realize that it's specific to that sample. For\n",
    "example, an organization might collect a survey to assess the link\n",
    "between customer satisfaction and consumption. Whatever correlation\n",
    "observed in the sample is only an estimate--our best guess--of the\n",
    "correlation in the broader population. Were that organization to collect\n",
    "another sample, they would get a different correlation. Every time, the\n",
    "correlation would vary slightly, because the sample is different and\n",
    "only representing (but not being) the population. This raises an\n",
    "important point: sample correlations are imperfect estimates of their\n",
    "population counterparts. The sample estimate has error built into it.\n",
    "\n",
    "One important consequence is that it is possible that the correlation in\n",
    "the population is actually zero (*H*<sub>0</sub> : *ρ* = 0) even when it\n",
    "is not in the sample (e.g., *r* = .12). In other words, the sample\n",
    "correlation could be a statistical fluke of the sample. We cannot say,\n",
    "just because the sample correlation is nonzero, that the two variables\n",
    "truly are correlated in the population. We will need to conduct a\n",
    "statistical significance test first.\n",
    "\n",
    "Further, we can *only* trust the sample correlation as an estimate of\n",
    "the population correlation *if* the data are representative. If only a\n",
    "certain kind of person selects into the survey (e.g., a certain\n",
    "personality type, people who have strong feelings about a product,\n",
    "etc.), then the sample correlation will estimate the correlation for\n",
    "*that population only.* This essentially means that all research data is\n",
    "biased toward whoever is over-represented in the sample. For this\n",
    "reason, getting good information on whoever is represented in one's data\n",
    "is very important for qualifying the results. In some cases, it may be\n",
    "worth it to gather data from multiple different sources or methods and\n",
    "cross-reference the results for very important decisions.\n",
    "\n",
    "Significance Test\n",
    "=================\n",
    "\n",
    "If we want to test the correlation for significance, we can use the 'pearsonr' function from the scipy.stats modules. The confidence intervals can be computed using the methods in the functions below."
   ]
  },
  {
   "cell_type": "code",
   "execution_count": 8,
   "metadata": {},
   "outputs": [
    {
     "name": "stdout",
     "output_type": "stream",
     "text": [
      "Correlation = 0.782 with CI of 0.757 to 0.805 and p_value 3.213e-33\n"
     ]
    }
   ],
   "source": [
    "def r_z(r): ## transform distribution\n",
    "    return math.log((1 + r) / (1 - r)) / 2.0\n",
    "\n",
    "def z_r(z): ## inverse transform distribution \n",
    "    e = math.exp(2 * z)\n",
    "    return((e - 1) / (e + 1))\n",
    "\n",
    "def r_conf_int(r, alpha, n):\n",
    "    # Transform r to z space\n",
    "    z = r_z(r)\n",
    "    # Compute standard error and critcal value in z\n",
    "    se = 1.0 / math.sqrt(n - 3)\n",
    "    z_crit = ss.norm.ppf(1 - alpha/2)\n",
    "\n",
    "    ## Compute CIs with transform to r\n",
    "    lo = z_r(z - z_crit * se)\n",
    "    hi = z_r(z + z_crit * se)\n",
    "    return (lo, hi)\n",
    "\n",
    "def correlation_sig(df, col1, col2):\n",
    "    pearson_cor = ss.pearsonr(x = df[col1], y = dat[col2])\n",
    "    conf_ints = r_conf_int(pearson_cor[0], 0.05, 1000)\n",
    "    print('Correlation = %4.3f with CI of %4.3f to %4.3f and p_value %4.3e' \n",
    "        % (pearson_cor[0], conf_ints[0], conf_ints[1], pearson_cor[1]))\n",
    "    \n",
    "correlation_sig(dat, 'Happiness', 'Life_Expect')    "
   ]
  },
  {
   "cell_type": "markdown",
   "metadata": {},
   "source": [
    "The confidence interval is fairly narrow around the correlation coefficient. \n",
    "\n",
    "Using the same information, we can make a reasonable guess about what\n",
    "the correlation in the population is. We see that `cor.test()` has given\n",
    "us a 95% confidence interval of \\[0.71, 0.84\\], meaning that we are 95%\n",
    "confident that the population value (*ρ*) is in that range. By \"95%\n",
    "confident,\" we mean that this range includes the population value 95% of\n",
    "the time. If we act on it and trust it, we are right 95% of the time.\n",
    "\n",
    "So, we are pretty certain that, even though we have a sample (a small\n",
    "sample, too!), that there is a large correlation in the population\n",
    "between happiness and life satisfaction. Even after taking the\n",
    "uncertainty of our sample into account (e.g., with the *t*-test and 95%\n",
    "CI), we still feel confident that there is a larger link between these\n",
    "two variables.\n",
    "\n",
    "Caveat: Normality\n",
    "=================\n",
    "\n",
    "It should be noted that correlations work best with normally distributed\n",
    "(bell curve, symmetrical) data. We can briefly check the skew of the\n",
    "variables:"
   ]
  },
  {
   "cell_type": "code",
   "execution_count": 9,
   "metadata": {},
   "outputs": [
    {
     "data": {
      "text/plain": [
       "Text(0.5, 0, 'Happiness')"
      ]
     },
     "execution_count": 9,
     "metadata": {},
     "output_type": "execute_result"
    },
    {
     "data": {
      "image/png": "[encoded data removed]",
      "text/plain": [
       "<Figure size 576x432 with 1 Axes>"
      ]
     },
     "metadata": {
      "needs_background": "light"
     },
     "output_type": "display_data"
    }
   ],
   "source": [
    "ax = plt.figure(figsize=(8, 6)).gca() # define axis\n",
    "dat.Happiness.plot.hist(ax = ax, alpha = 0.4)\n",
    "plt.title('Histogram of Happiness')\n",
    "plt.xlabel('Happiness')"
   ]
  },
  {
   "cell_type": "code",
   "execution_count": 10,
   "metadata": {},
   "outputs": [
    {
     "data": {
      "text/plain": [
       "Text(0.5, 0, 'Life Expectancy')"
      ]
     },
     "execution_count": 10,
     "metadata": {},
     "output_type": "execute_result"
    },
    {
     "data": {
      "image/png": "[encoded data removed]",
      "text/plain": [
       "<Figure size 576x432 with 1 Axes>"
      ]
     },
     "metadata": {
      "needs_background": "light"
     },
     "output_type": "display_data"
    }
   ],
   "source": [
    "ax = plt.figure(figsize=(8, 6)).gca() # define axis\n",
    "dat.Life_Expect.plot.hist(ax = ax, alpha = 0.4)\n",
    "plt.title('Histogram of Life Expectancy')\n",
    "plt.xlabel('Life Expectancy')"
   ]
  },
  {
   "cell_type": "markdown",
   "metadata": {},
   "source": [
    "\n",
    "We see here that both variables are decently normally distributed, but\n",
    "life expectancy is possibly negative skewed (i.e., \"skew left\"). We can\n",
    "get a metric of the skew using the `skewtest()` function from the Scipy.Stats\n",
    "package:"
   ]
  },
  {
   "cell_type": "code",
   "execution_count": 11,
   "metadata": {},
   "outputs": [
    {
     "data": {
      "text/plain": [
       "SkewtestResult(statistic=0.05018342604501572, pvalue=0.9599762190117113)"
      ]
     },
     "execution_count": 11,
     "metadata": {},
     "output_type": "execute_result"
    }
   ],
   "source": [
    "skew = ss.skewtest(dat.Happiness)\n",
    "skew"
   ]
  },
  {
   "cell_type": "markdown",
   "metadata": {},
   "source": [
    "People disagree about what is acceptable skew, but usually a value less\n",
    "than +/- 1.0 raises no alarms. Further, the p-value is rather large indicating we cannot reject the null hypothesis that there is no skew. Here, we can safely go about our\n",
    "business.\n",
    "\n",
    "However, if we had a bigger skew problem, we could also address the skew\n",
    "by transforming the variable. (There are also backup options, such as\n",
    "Spearman's correlation, but we won't explore that in this class beyond\n",
    "what was covered in Module 3).\n",
    "\n",
    "Correlations are based on variance, so anything that biases a mean\n",
    "(e.g., skew) also interferes with the correlation. In general, skew\n",
    "reduces correlations. For a more robust test of the correlation, you can\n",
    "transform the data by performing a mathematical operation to every\n",
    "score. There are many such operations we can try. In general, taking the\n",
    "square root of every score reduces skew, but the catch is that the\n",
    "variable must be positively skewed and no scores may be negative. For\n",
    "the sake of illustration, let's try this.\n",
    "\n",
    "First, let's \"reverse\" the variable. Take the maximum score, add one to\n",
    "it, and subtract your score:"
   ]
  },
  {
   "cell_type": "code",
   "execution_count": 12,
   "metadata": {},
   "outputs": [],
   "source": [
    "dat['Life_Expect2']= max(dat.Life_Expect) + 1 - dat.Life_Expect"
   ]
  },
  {
   "cell_type": "markdown",
   "metadata": {},
   "source": [
    "This reverses the variable as shown in the histogram:"
   ]
  },
  {
   "cell_type": "code",
   "execution_count": 13,
   "metadata": {},
   "outputs": [
    {
     "data": {
      "text/plain": [
       "Text(0.5, 0, 'Reversed Life Expectancy')"
      ]
     },
     "execution_count": 13,
     "metadata": {},
     "output_type": "execute_result"
    },
    {
     "data": {
      "image/png": "[encoded data removed]",
      "text/plain": [
       "<Figure size 576x432 with 1 Axes>"
      ]
     },
     "metadata": {
      "needs_background": "light"
     },
     "output_type": "display_data"
    }
   ],
   "source": [
    "ax = plt.figure(figsize=(8, 6)).gca() # define axis\n",
    "dat.Life_Expect2.plot.hist(ax = ax, alpha = 0.4)\n",
    "plt.title('Histogram of reversed Life Expectancy')\n",
    "plt.xlabel('Reversed Life Expectancy')"
   ]
  },
  {
   "cell_type": "markdown",
   "metadata": {},
   "source": [
    "![](Mod3_Lab1_-_Correlation_files/figure-markdown_strict/unnamed-chunk-13-1.png)\n",
    "\n",
    "Now we can perform any number of operations. The square root is the most\n",
    "mild transformation. We can also take the natural log of every score (no\n",
    "values may be zero!). In general, these operations reduce big numbers\n",
    "more than small numbers and thus rein in the long tail. The Pandas `apply` method is used to apply the `math.sqrt` function to each element of `Life_Expect2`."
   ]
  },
  {
   "cell_type": "code",
   "execution_count": 14,
   "metadata": {},
   "outputs": [
    {
     "data": {
      "text/plain": [
       "Text(0.5, 0, 'Reversed Life Expectancy squared')"
      ]
     },
     "execution_count": 14,
     "metadata": {},
     "output_type": "execute_result"
    },
    {
     "data": {
      "image/png": "[encoded data removed]",
      "text/plain": [
       "<Figure size 576x432 with 1 Axes>"
      ]
     },
     "metadata": {
      "needs_background": "light"
     },
     "output_type": "display_data"
    }
   ],
   "source": [
    "## Square the reversed variable\n",
    "dat['Life_Expect2_sqrt'] = dat.Life_Expect2.apply(math.sqrt)\n",
    "\n",
    "ax = plt.figure(figsize=(8, 6)).gca() # define axis\n",
    "dat.Life_Expect2_sqrt.plot.hist(ax = ax, alpha = 0.4)\n",
    "plt.title('Histogram of reversed Life Expectancy squared')\n",
    "plt.xlabel('Reversed Life Expectancy squared')"
   ]
  },
  {
   "cell_type": "markdown",
   "metadata": {},
   "source": [
    "![](Mod3_Lab1_-_Correlation_files/figure-markdown_strict/unnamed-chunk-14-1.png)\n",
    "We could save this transformed version, then re-reverse it and use that\n",
    "in subsequent analyses."
   ]
  },
  {
   "cell_type": "code",
   "execution_count": 15,
   "metadata": {},
   "outputs": [
    {
     "name": "stdout",
     "output_type": "stream",
     "text": [
      "Correlation = 0.786 with CI of 0.762 to 0.809 and p_value 7.978e-34\n"
     ]
    }
   ],
   "source": [
    "## un-reverse the variable\n",
    "dat['Life_Expect2']= max(dat.Life_Expect2_sqrt) + 1 - dat.Life_Expect2_sqrt\n",
    "\n",
    "## compute correlation of new variable and test statistics\n",
    "correlation_sig(dat, 'Happiness', 'Life_Expect2')  "
   ]
  },
  {
   "cell_type": "markdown",
   "metadata": {},
   "source": [
    "We see here the results barely changed. In this case, that wasn't really\n",
    "necessary because the variable was not that skewed to begin with. You\n",
    "will find, in many cases, that it is very helpful, however. In those\n",
    "cases, there are many online guides to data transformation.\n",
    "\n",
    "Of course, if you are predicting something that has a very non-normal\n",
    "distribution (e.g., categorical variables, counts of things often have\n",
    "many zeros, etc.) then correlation may not be the best tool to use. A\n",
    "more sophisticated data modeling technique may be warranted. However,\n",
    "\n",
    "Correlations Among Many Variables\n",
    "=================================\n",
    "\n",
    "Often we want to examine the correlations among many variables at once.\n",
    "In this case, we could look at a matrix of correlations. This can be\n",
    "done using the `corr()` method on a pandas data frame. You can use the entire data frame of subset it. In this case we just want the correlations between happiness, life\n",
    "expectancy, GDP, and generosity. Notice the double `[[]]` the outer `[]` is the subset operator and the inner `[]` delimits the list of column names:"
   ]
  },
  {
   "cell_type": "markdown",
   "metadata": {},
   "source": [
    "We can easily see that happiness, life expectancy, and GDP are all\n",
    "highly intercorrelated, whereas generosity is seemingly less related.\n",
    "Thus, we may conceive that we have a \"cluster\" of intercorrelated\n",
    "variables around happiness."
   ]
  },
  {
   "cell_type": "code",
   "execution_count": 16,
   "metadata": {},
   "outputs": [
    {
     "data": {
      "text/html": [
       "<div>\n",
       "<style scoped>\n",
       "    .dataframe tbody tr th:only-of-type {\n",
       "        vertical-align: middle;\n",
       "    }\n",
       "\n",
       "    .dataframe tbody tr th {\n",
       "        vertical-align: top;\n",
       "    }\n",
       "\n",
       "    .dataframe thead th {\n",
       "        text-align: right;\n",
       "    }\n",
       "</style>\n",
       "<table border=\"1\" class=\"dataframe\">\n",
       "  <thead>\n",
       "    <tr style=\"text-align: right;\">\n",
       "      <th></th>\n",
       "      <th>Happiness</th>\n",
       "      <th>Life_Expect</th>\n",
       "      <th>Generosity</th>\n",
       "    </tr>\n",
       "  </thead>\n",
       "  <tbody>\n",
       "    <tr>\n",
       "      <th>Happiness</th>\n",
       "      <td>1.000000</td>\n",
       "      <td>0.781951</td>\n",
       "      <td>0.155256</td>\n",
       "    </tr>\n",
       "    <tr>\n",
       "      <th>Life_Expect</th>\n",
       "      <td>0.781951</td>\n",
       "      <td>1.000000</td>\n",
       "      <td>0.063191</td>\n",
       "    </tr>\n",
       "    <tr>\n",
       "      <th>Generosity</th>\n",
       "      <td>0.155256</td>\n",
       "      <td>0.063191</td>\n",
       "      <td>1.000000</td>\n",
       "    </tr>\n",
       "  </tbody>\n",
       "</table>\n",
       "</div>"
      ],
      "text/plain": [
       "             Happiness  Life_Expect  Generosity\n",
       "Happiness     1.000000     0.781951    0.155256\n",
       "Life_Expect   0.781951     1.000000    0.063191\n",
       "Generosity    0.155256     0.063191    1.000000"
      ]
     },
     "execution_count": 16,
     "metadata": {},
     "output_type": "execute_result"
    }
   ],
   "source": [
    "dat[['Happiness', 'Life_Expect', 'Generosity']].corr()"
   ]
  },
  {
   "cell_type": "markdown",
   "metadata": {},
   "source": [
    "We can see that generosity is not significantly correlated with the other\n",
    "variables.\n",
    "\n",
    "#### Clustering\n",
    "\n",
    "We saw before we had a cluster of several overlapping variables. We can\n",
    "make some helpful visuals to view this cluster. The code in the cell below performs the following processing:\n",
    "1. The correlation matrix is computed using the Pandas `corr` method and with two unneeded columns dropped from the data frame. \n",
    "2. A hierarchical clustering model is constructed using methods from the scipy.cluster.hierarchy package. A hierarchical cluster model is created by linking (using a `linkage` function) values based on a measure of distance into a hierarchy or tree. The details of hierarchical clustering are beyond the scope of this course. \n",
    "3. The correlation matrix is permuted based on the hierarchy and plotted as a heat map. \n",
    "\n",
    "Execute the code below and examine the results:"
   ]
  },
  {
   "cell_type": "code",
   "execution_count": 17,
   "metadata": {},
   "outputs": [
    {
     "data": {
      "text/plain": [
       "<matplotlib.axes._subplots.AxesSubplot at 0x277ef2d7188>"
      ]
     },
     "execution_count": 17,
     "metadata": {},
     "output_type": "execute_result"
    },
    {
     "data": {
      "image/png": "[encoded data removed]",
      "text/plain": [
       "<Figure size 432x288 with 2 Axes>"
      ]
     },
     "metadata": {
      "needs_background": "light"
     },
     "output_type": "display_data"
    }
   ],
   "source": [
    "## Compute the correlation matrix\n",
    "corrs = dat.drop(['Life_Expect2', 'Life_Expect2_sqrt'], axis = 1).corr()\n",
    "\n",
    "## Create the hierarchical clustering model\n",
    "dist = sch.distance.pdist(corrs)   # vector of pairwise distances using correlations\n",
    "linkage = sch.linkage(dist, method='complete') # Compute the linkages for the clusters\n",
    "ind = sch.fcluster(linkage, 0.5*dist.max(), 'distance')  # Apply the clustering algorithm\n",
    "\n",
    "## Order the columns of the correlaton matrix according to the hierarchy\n",
    "columns = [corrs.columns.tolist()[i] for i in list((np.argsort(ind)))]  # Order the names for the result\n",
    "corrs_clustered = corrs.reindex(columns) ## Reindex the columns following the heirarchy \n",
    "\n",
    "## Plot a heat map of the clustered correlations\n",
    "sns.heatmap(corrs_clustered, \n",
    "            xticklabels=corrs_clustered.columns.values,\n",
    "            yticklabels=corrs_clustered.columns.values)"
   ]
  },
  {
   "cell_type": "markdown",
   "metadata": {},
   "source": [
    "Here we see there is a prominent cluster of happiness, family, life\n",
    "expectancy, and GDP. These are all highly inter-correlated. You can see\n",
    "this from the bright spot in the heat map.\n",
    "\n",
    "#### Another Correlation Plot\n",
    "\n",
    "With small number variables, it can be useful to display the correlation matrix with the numerical values. The Pandas `style.background_gradient()` does just this:"
   ]
  },
  {
   "cell_type": "code",
   "execution_count": 18,
   "metadata": {},
   "outputs": [
    {
     "data": {
      "text/html": [
       "<style  type=\"text/css\" >\n",
       "    #T_9794d192_0529_11ea_8c37_1866da2b6e32row0_col0 {\n",
       "            background-color:  #023858;\n",
       "            color:  #f1f1f1;\n",
       "        }    #T_9794d192_0529_11ea_8c37_1866da2b6e32row0_col1 {\n",
       "            background-color:  #04649e;\n",
       "            color:  #f1f1f1;\n",
       "        }    #T_9794d192_0529_11ea_8c37_1866da2b6e32row0_col2 {\n",
       "            background-color:  #0872b1;\n",
       "            color:  #f1f1f1;\n",
       "        }    #T_9794d192_0529_11ea_8c37_1866da2b6e32row0_col3 {\n",
       "            background-color:  #056dab;\n",
       "            color:  #f1f1f1;\n",
       "        }    #T_9794d192_0529_11ea_8c37_1866da2b6e32row0_col4 {\n",
       "            background-color:  #63a2cb;\n",
       "            color:  #000000;\n",
       "        }    #T_9794d192_0529_11ea_8c37_1866da2b6e32row0_col5 {\n",
       "            background-color:  #d2d2e7;\n",
       "            color:  #000000;\n",
       "        }    #T_9794d192_0529_11ea_8c37_1866da2b6e32row0_col6 {\n",
       "            background-color:  #8bb2d4;\n",
       "            color:  #000000;\n",
       "        }    #T_9794d192_0529_11ea_8c37_1866da2b6e32row0_col7 {\n",
       "            background-color:  #65a3cb;\n",
       "            color:  #000000;\n",
       "        }    #T_9794d192_0529_11ea_8c37_1866da2b6e32row1_col0 {\n",
       "            background-color:  #056ba7;\n",
       "            color:  #f1f1f1;\n",
       "        }    #T_9794d192_0529_11ea_8c37_1866da2b6e32row1_col1 {\n",
       "            background-color:  #023858;\n",
       "            color:  #f1f1f1;\n",
       "        }    #T_9794d192_0529_11ea_8c37_1866da2b6e32row1_col2 {\n",
       "            background-color:  #2484ba;\n",
       "            color:  #000000;\n",
       "        }    #T_9794d192_0529_11ea_8c37_1866da2b6e32row1_col3 {\n",
       "            background-color:  #046198;\n",
       "            color:  #f1f1f1;\n",
       "        }    #T_9794d192_0529_11ea_8c37_1866da2b6e32row1_col4 {\n",
       "            background-color:  #bbc7e0;\n",
       "            color:  #000000;\n",
       "        }    #T_9794d192_0529_11ea_8c37_1866da2b6e32row1_col5 {\n",
       "            background-color:  #f2ecf5;\n",
       "            color:  #000000;\n",
       "        }    #T_9794d192_0529_11ea_8c37_1866da2b6e32row1_col6 {\n",
       "            background-color:  #a9bfdc;\n",
       "            color:  #000000;\n",
       "        }    #T_9794d192_0529_11ea_8c37_1866da2b6e32row1_col7 {\n",
       "            background-color:  #ece7f2;\n",
       "            color:  #000000;\n",
       "        }    #T_9794d192_0529_11ea_8c37_1866da2b6e32row2_col0 {\n",
       "            background-color:  #157ab5;\n",
       "            color:  #000000;\n",
       "        }    #T_9794d192_0529_11ea_8c37_1866da2b6e32row2_col1 {\n",
       "            background-color:  #1b7eb7;\n",
       "            color:  #000000;\n",
       "        }    #T_9794d192_0529_11ea_8c37_1866da2b6e32row2_col2 {\n",
       "            background-color:  #023858;\n",
       "            color:  #f1f1f1;\n",
       "        }    #T_9794d192_0529_11ea_8c37_1866da2b6e32row2_col3 {\n",
       "            background-color:  #4897c4;\n",
       "            color:  #000000;\n",
       "        }    #T_9794d192_0529_11ea_8c37_1866da2b6e32row2_col4 {\n",
       "            background-color:  #a7bddb;\n",
       "            color:  #000000;\n",
       "        }    #T_9794d192_0529_11ea_8c37_1866da2b6e32row2_col5 {\n",
       "            background-color:  #e7e3f0;\n",
       "            color:  #000000;\n",
       "        }    #T_9794d192_0529_11ea_8c37_1866da2b6e32row2_col6 {\n",
       "            background-color:  #d1d2e6;\n",
       "            color:  #000000;\n",
       "        }    #T_9794d192_0529_11ea_8c37_1866da2b6e32row2_col7 {\n",
       "            background-color:  #e3e0ee;\n",
       "            color:  #000000;\n",
       "        }    #T_9794d192_0529_11ea_8c37_1866da2b6e32row3_col0 {\n",
       "            background-color:  #0872b1;\n",
       "            color:  #f1f1f1;\n",
       "        }    #T_9794d192_0529_11ea_8c37_1866da2b6e32row3_col1 {\n",
       "            background-color:  #045f95;\n",
       "            color:  #f1f1f1;\n",
       "        }    #T_9794d192_0529_11ea_8c37_1866da2b6e32row3_col2 {\n",
       "            background-color:  #4697c4;\n",
       "            color:  #000000;\n",
       "        }    #T_9794d192_0529_11ea_8c37_1866da2b6e32row3_col3 {\n",
       "            background-color:  #023858;\n",
       "            color:  #f1f1f1;\n",
       "        }    #T_9794d192_0529_11ea_8c37_1866da2b6e32row3_col4 {\n",
       "            background-color:  #c2cbe2;\n",
       "            color:  #000000;\n",
       "        }    #T_9794d192_0529_11ea_8c37_1866da2b6e32row3_col5 {\n",
       "            background-color:  #e4e1ef;\n",
       "            color:  #000000;\n",
       "        }    #T_9794d192_0529_11ea_8c37_1866da2b6e32row3_col6 {\n",
       "            background-color:  #c1cae2;\n",
       "            color:  #000000;\n",
       "        }    #T_9794d192_0529_11ea_8c37_1866da2b6e32row3_col7 {\n",
       "            background-color:  #e6e2ef;\n",
       "            color:  #000000;\n",
       "        }    #T_9794d192_0529_11ea_8c37_1866da2b6e32row4_col0 {\n",
       "            background-color:  #78abd0;\n",
       "            color:  #000000;\n",
       "        }    #T_9794d192_0529_11ea_8c37_1866da2b6e32row4_col1 {\n",
       "            background-color:  #a4bcda;\n",
       "            color:  #000000;\n",
       "        }    #T_9794d192_0529_11ea_8c37_1866da2b6e32row4_col2 {\n",
       "            background-color:  #9fbad9;\n",
       "            color:  #000000;\n",
       "        }    #T_9794d192_0529_11ea_8c37_1866da2b6e32row4_col3 {\n",
       "            background-color:  #bcc7e1;\n",
       "            color:  #000000;\n",
       "        }    #T_9794d192_0529_11ea_8c37_1866da2b6e32row4_col4 {\n",
       "            background-color:  #023858;\n",
       "            color:  #f1f1f1;\n",
       "        }    #T_9794d192_0529_11ea_8c37_1866da2b6e32row4_col5 {\n",
       "            background-color:  #a1bbda;\n",
       "            color:  #000000;\n",
       "        }    #T_9794d192_0529_11ea_8c37_1866da2b6e32row4_col6 {\n",
       "            background-color:  #6fa7ce;\n",
       "            color:  #000000;\n",
       "        }    #T_9794d192_0529_11ea_8c37_1866da2b6e32row4_col7 {\n",
       "            background-color:  #e0deed;\n",
       "            color:  #000000;\n",
       "        }    #T_9794d192_0529_11ea_8c37_1866da2b6e32row5_col0 {\n",
       "            background-color:  #b8c6e0;\n",
       "            color:  #000000;\n",
       "        }    #T_9794d192_0529_11ea_8c37_1866da2b6e32row5_col1 {\n",
       "            background-color:  #abbfdc;\n",
       "            color:  #000000;\n",
       "        }    #T_9794d192_0529_11ea_8c37_1866da2b6e32row5_col2 {\n",
       "            background-color:  #dedcec;\n",
       "            color:  #000000;\n",
       "        }    #T_9794d192_0529_11ea_8c37_1866da2b6e32row5_col3 {\n",
       "            background-color:  #d3d4e7;\n",
       "            color:  #000000;\n",
       "        }    #T_9794d192_0529_11ea_8c37_1866da2b6e32row5_col4 {\n",
       "            background-color:  #86b0d3;\n",
       "            color:  #000000;\n",
       "        }    #T_9794d192_0529_11ea_8c37_1866da2b6e32row5_col5 {\n",
       "            background-color:  #a8bedc;\n",
       "            color:  #000000;\n",
       "        }    #T_9794d192_0529_11ea_8c37_1866da2b6e32row5_col6 {\n",
       "            background-color:  #023858;\n",
       "            color:  #f1f1f1;\n",
       "        }    #T_9794d192_0529_11ea_8c37_1866da2b6e32row5_col7 {\n",
       "            background-color:  #f2ecf5;\n",
       "            color:  #000000;\n",
       "        }    #T_9794d192_0529_11ea_8c37_1866da2b6e32row6_col0 {\n",
       "            background-color:  #fff7fb;\n",
       "            color:  #000000;\n",
       "        }    #T_9794d192_0529_11ea_8c37_1866da2b6e32row6_col1 {\n",
       "            background-color:  #fff7fb;\n",
       "            color:  #000000;\n",
       "        }    #T_9794d192_0529_11ea_8c37_1866da2b6e32row6_col2 {\n",
       "            background-color:  #fff7fb;\n",
       "            color:  #000000;\n",
       "        }    #T_9794d192_0529_11ea_8c37_1866da2b6e32row6_col3 {\n",
       "            background-color:  #fef6fa;\n",
       "            color:  #000000;\n",
       "        }    #T_9794d192_0529_11ea_8c37_1866da2b6e32row6_col4 {\n",
       "            background-color:  #ced0e6;\n",
       "            color:  #000000;\n",
       "        }    #T_9794d192_0529_11ea_8c37_1866da2b6e32row6_col5 {\n",
       "            background-color:  #023858;\n",
       "            color:  #f1f1f1;\n",
       "        }    #T_9794d192_0529_11ea_8c37_1866da2b6e32row6_col6 {\n",
       "            background-color:  #bcc7e1;\n",
       "            color:  #000000;\n",
       "        }    #T_9794d192_0529_11ea_8c37_1866da2b6e32row6_col7 {\n",
       "            background-color:  #fff7fb;\n",
       "            color:  #000000;\n",
       "        }    #T_9794d192_0529_11ea_8c37_1866da2b6e32row7_col0 {\n",
       "            background-color:  #a4bcda;\n",
       "            color:  #000000;\n",
       "        }    #T_9794d192_0529_11ea_8c37_1866da2b6e32row7_col1 {\n",
       "            background-color:  #f9f2f8;\n",
       "            color:  #000000;\n",
       "        }    #T_9794d192_0529_11ea_8c37_1866da2b6e32row7_col2 {\n",
       "            background-color:  #fcf4fa;\n",
       "            color:  #000000;\n",
       "        }    #T_9794d192_0529_11ea_8c37_1866da2b6e32row7_col3 {\n",
       "            background-color:  #fff7fb;\n",
       "            color:  #000000;\n",
       "        }    #T_9794d192_0529_11ea_8c37_1866da2b6e32row7_col4 {\n",
       "            background-color:  #fff7fb;\n",
       "            color:  #000000;\n",
       "        }    #T_9794d192_0529_11ea_8c37_1866da2b6e32row7_col5 {\n",
       "            background-color:  #fff7fb;\n",
       "            color:  #000000;\n",
       "        }    #T_9794d192_0529_11ea_8c37_1866da2b6e32row7_col6 {\n",
       "            background-color:  #fff7fb;\n",
       "            color:  #000000;\n",
       "        }    #T_9794d192_0529_11ea_8c37_1866da2b6e32row7_col7 {\n",
       "            background-color:  #023858;\n",
       "            color:  #f1f1f1;\n",
       "        }</style><table id=\"T_9794d192_0529_11ea_8c37_1866da2b6e32\" ><thead>    <tr>        <th class=\"blank level0\" ></th>        <th class=\"col_heading level0 col0\" >Happiness</th>        <th class=\"col_heading level0 col1\" >GDP</th>        <th class=\"col_heading level0 col2\" >Family</th>        <th class=\"col_heading level0 col3\" >Life_Expect</th>        <th class=\"col_heading level0 col4\" >Freedom</th>        <th class=\"col_heading level0 col5\" >Generosity</th>        <th class=\"col_heading level0 col6\" >Trust_Gov</th>        <th class=\"col_heading level0 col7\" >Dystopia</th>    </tr></thead><tbody>\n",
       "                <tr>\n",
       "                        <th id=\"T_9794d192_0529_11ea_8c37_1866da2b6e32level0_row0\" class=\"row_heading level0 row0\" >Happiness</th>\n",
       "                        <td id=\"T_9794d192_0529_11ea_8c37_1866da2b6e32row0_col0\" class=\"data row0 col0\" >1</td>\n",
       "                        <td id=\"T_9794d192_0529_11ea_8c37_1866da2b6e32row0_col1\" class=\"data row0 col1\" >0.81</td>\n",
       "                        <td id=\"T_9794d192_0529_11ea_8c37_1866da2b6e32row0_col2\" class=\"data row0 col2\" >0.75</td>\n",
       "                        <td id=\"T_9794d192_0529_11ea_8c37_1866da2b6e32row0_col3\" class=\"data row0 col3\" >0.78</td>\n",
       "                        <td id=\"T_9794d192_0529_11ea_8c37_1866da2b6e32row0_col4\" class=\"data row0 col4\" >0.57</td>\n",
       "                        <td id=\"T_9794d192_0529_11ea_8c37_1866da2b6e32row0_col5\" class=\"data row0 col5\" >0.16</td>\n",
       "                        <td id=\"T_9794d192_0529_11ea_8c37_1866da2b6e32row0_col6\" class=\"data row0 col6\" >0.43</td>\n",
       "                        <td id=\"T_9794d192_0529_11ea_8c37_1866da2b6e32row0_col7\" class=\"data row0 col7\" >0.48</td>\n",
       "            </tr>\n",
       "            <tr>\n",
       "                        <th id=\"T_9794d192_0529_11ea_8c37_1866da2b6e32level0_row1\" class=\"row_heading level0 row1\" >GDP</th>\n",
       "                        <td id=\"T_9794d192_0529_11ea_8c37_1866da2b6e32row1_col0\" class=\"data row1 col0\" >0.81</td>\n",
       "                        <td id=\"T_9794d192_0529_11ea_8c37_1866da2b6e32row1_col1\" class=\"data row1 col1\" >1</td>\n",
       "                        <td id=\"T_9794d192_0529_11ea_8c37_1866da2b6e32row1_col2\" class=\"data row1 col2\" >0.69</td>\n",
       "                        <td id=\"T_9794d192_0529_11ea_8c37_1866da2b6e32row1_col3\" class=\"data row1 col3\" >0.84</td>\n",
       "                        <td id=\"T_9794d192_0529_11ea_8c37_1866da2b6e32row1_col4\" class=\"data row1 col4\" >0.37</td>\n",
       "                        <td id=\"T_9794d192_0529_11ea_8c37_1866da2b6e32row1_col5\" class=\"data row1 col5\" >-0.019</td>\n",
       "                        <td id=\"T_9794d192_0529_11ea_8c37_1866da2b6e32row1_col6\" class=\"data row1 col6\" >0.35</td>\n",
       "                        <td id=\"T_9794d192_0529_11ea_8c37_1866da2b6e32row1_col7\" class=\"data row1 col7\" >0.024</td>\n",
       "            </tr>\n",
       "            <tr>\n",
       "                        <th id=\"T_9794d192_0529_11ea_8c37_1866da2b6e32level0_row2\" class=\"row_heading level0 row2\" >Family</th>\n",
       "                        <td id=\"T_9794d192_0529_11ea_8c37_1866da2b6e32row2_col0\" class=\"data row2 col0\" >0.75</td>\n",
       "                        <td id=\"T_9794d192_0529_11ea_8c37_1866da2b6e32row2_col1\" class=\"data row2 col1\" >0.69</td>\n",
       "                        <td id=\"T_9794d192_0529_11ea_8c37_1866da2b6e32row2_col2\" class=\"data row2 col2\" >1</td>\n",
       "                        <td id=\"T_9794d192_0529_11ea_8c37_1866da2b6e32row2_col3\" class=\"data row2 col3\" >0.61</td>\n",
       "                        <td id=\"T_9794d192_0529_11ea_8c37_1866da2b6e32row2_col4\" class=\"data row2 col4\" >0.42</td>\n",
       "                        <td id=\"T_9794d192_0529_11ea_8c37_1866da2b6e32row2_col5\" class=\"data row2 col5\" >0.052</td>\n",
       "                        <td id=\"T_9794d192_0529_11ea_8c37_1866da2b6e32row2_col6\" class=\"data row2 col6\" >0.23</td>\n",
       "                        <td id=\"T_9794d192_0529_11ea_8c37_1866da2b6e32row2_col7\" class=\"data row2 col7\" >0.071</td>\n",
       "            </tr>\n",
       "            <tr>\n",
       "                        <th id=\"T_9794d192_0529_11ea_8c37_1866da2b6e32level0_row3\" class=\"row_heading level0 row3\" >Life_Expect</th>\n",
       "                        <td id=\"T_9794d192_0529_11ea_8c37_1866da2b6e32row3_col0\" class=\"data row3 col0\" >0.78</td>\n",
       "                        <td id=\"T_9794d192_0529_11ea_8c37_1866da2b6e32row3_col1\" class=\"data row3 col1\" >0.84</td>\n",
       "                        <td id=\"T_9794d192_0529_11ea_8c37_1866da2b6e32row3_col2\" class=\"data row3 col2\" >0.61</td>\n",
       "                        <td id=\"T_9794d192_0529_11ea_8c37_1866da2b6e32row3_col3\" class=\"data row3 col3\" >1</td>\n",
       "                        <td id=\"T_9794d192_0529_11ea_8c37_1866da2b6e32row3_col4\" class=\"data row3 col4\" >0.35</td>\n",
       "                        <td id=\"T_9794d192_0529_11ea_8c37_1866da2b6e32row3_col5\" class=\"data row3 col5\" >0.063</td>\n",
       "                        <td id=\"T_9794d192_0529_11ea_8c37_1866da2b6e32row3_col6\" class=\"data row3 col6\" >0.28</td>\n",
       "                        <td id=\"T_9794d192_0529_11ea_8c37_1866da2b6e32row3_col7\" class=\"data row3 col7\" >0.055</td>\n",
       "            </tr>\n",
       "            <tr>\n",
       "                        <th id=\"T_9794d192_0529_11ea_8c37_1866da2b6e32level0_row4\" class=\"row_heading level0 row4\" >Freedom</th>\n",
       "                        <td id=\"T_9794d192_0529_11ea_8c37_1866da2b6e32row4_col0\" class=\"data row4 col0\" >0.57</td>\n",
       "                        <td id=\"T_9794d192_0529_11ea_8c37_1866da2b6e32row4_col1\" class=\"data row4 col1\" >0.37</td>\n",
       "                        <td id=\"T_9794d192_0529_11ea_8c37_1866da2b6e32row4_col2\" class=\"data row4 col2\" >0.42</td>\n",
       "                        <td id=\"T_9794d192_0529_11ea_8c37_1866da2b6e32row4_col3\" class=\"data row4 col3\" >0.35</td>\n",
       "                        <td id=\"T_9794d192_0529_11ea_8c37_1866da2b6e32row4_col4\" class=\"data row4 col4\" >1</td>\n",
       "                        <td id=\"T_9794d192_0529_11ea_8c37_1866da2b6e32row4_col5\" class=\"data row4 col5\" >0.32</td>\n",
       "                        <td id=\"T_9794d192_0529_11ea_8c37_1866da2b6e32row4_col6\" class=\"data row4 col6\" >0.5</td>\n",
       "                        <td id=\"T_9794d192_0529_11ea_8c37_1866da2b6e32row4_col7\" class=\"data row4 col7\" >0.082</td>\n",
       "            </tr>\n",
       "            <tr>\n",
       "                        <th id=\"T_9794d192_0529_11ea_8c37_1866da2b6e32level0_row5\" class=\"row_heading level0 row5\" >Trust_Gov</th>\n",
       "                        <td id=\"T_9794d192_0529_11ea_8c37_1866da2b6e32row5_col0\" class=\"data row5 col0\" >0.43</td>\n",
       "                        <td id=\"T_9794d192_0529_11ea_8c37_1866da2b6e32row5_col1\" class=\"data row5 col1\" >0.35</td>\n",
       "                        <td id=\"T_9794d192_0529_11ea_8c37_1866da2b6e32row5_col2\" class=\"data row5 col2\" >0.23</td>\n",
       "                        <td id=\"T_9794d192_0529_11ea_8c37_1866da2b6e32row5_col3\" class=\"data row5 col3\" >0.28</td>\n",
       "                        <td id=\"T_9794d192_0529_11ea_8c37_1866da2b6e32row5_col4\" class=\"data row5 col4\" >0.5</td>\n",
       "                        <td id=\"T_9794d192_0529_11ea_8c37_1866da2b6e32row5_col5\" class=\"data row5 col5\" >0.29</td>\n",
       "                        <td id=\"T_9794d192_0529_11ea_8c37_1866da2b6e32row5_col6\" class=\"data row5 col6\" >1</td>\n",
       "                        <td id=\"T_9794d192_0529_11ea_8c37_1866da2b6e32row5_col7\" class=\"data row5 col7\" >-0.023</td>\n",
       "            </tr>\n",
       "            <tr>\n",
       "                        <th id=\"T_9794d192_0529_11ea_8c37_1866da2b6e32level0_row6\" class=\"row_heading level0 row6\" >Generosity</th>\n",
       "                        <td id=\"T_9794d192_0529_11ea_8c37_1866da2b6e32row6_col0\" class=\"data row6 col0\" >0.16</td>\n",
       "                        <td id=\"T_9794d192_0529_11ea_8c37_1866da2b6e32row6_col1\" class=\"data row6 col1\" >-0.019</td>\n",
       "                        <td id=\"T_9794d192_0529_11ea_8c37_1866da2b6e32row6_col2\" class=\"data row6 col2\" >0.052</td>\n",
       "                        <td id=\"T_9794d192_0529_11ea_8c37_1866da2b6e32row6_col3\" class=\"data row6 col3\" >0.063</td>\n",
       "                        <td id=\"T_9794d192_0529_11ea_8c37_1866da2b6e32row6_col4\" class=\"data row6 col4\" >0.32</td>\n",
       "                        <td id=\"T_9794d192_0529_11ea_8c37_1866da2b6e32row6_col5\" class=\"data row6 col5\" >1</td>\n",
       "                        <td id=\"T_9794d192_0529_11ea_8c37_1866da2b6e32row6_col6\" class=\"data row6 col6\" >0.29</td>\n",
       "                        <td id=\"T_9794d192_0529_11ea_8c37_1866da2b6e32row6_col7\" class=\"data row6 col7\" >-0.12</td>\n",
       "            </tr>\n",
       "            <tr>\n",
       "                        <th id=\"T_9794d192_0529_11ea_8c37_1866da2b6e32level0_row7\" class=\"row_heading level0 row7\" >Dystopia</th>\n",
       "                        <td id=\"T_9794d192_0529_11ea_8c37_1866da2b6e32row7_col0\" class=\"data row7 col0\" >0.48</td>\n",
       "                        <td id=\"T_9794d192_0529_11ea_8c37_1866da2b6e32row7_col1\" class=\"data row7 col1\" >0.024</td>\n",
       "                        <td id=\"T_9794d192_0529_11ea_8c37_1866da2b6e32row7_col2\" class=\"data row7 col2\" >0.071</td>\n",
       "                        <td id=\"T_9794d192_0529_11ea_8c37_1866da2b6e32row7_col3\" class=\"data row7 col3\" >0.055</td>\n",
       "                        <td id=\"T_9794d192_0529_11ea_8c37_1866da2b6e32row7_col4\" class=\"data row7 col4\" >0.082</td>\n",
       "                        <td id=\"T_9794d192_0529_11ea_8c37_1866da2b6e32row7_col5\" class=\"data row7 col5\" >-0.12</td>\n",
       "                        <td id=\"T_9794d192_0529_11ea_8c37_1866da2b6e32row7_col6\" class=\"data row7 col6\" >-0.023</td>\n",
       "                        <td id=\"T_9794d192_0529_11ea_8c37_1866da2b6e32row7_col7\" class=\"data row7 col7\" >1</td>\n",
       "            </tr>\n",
       "    </tbody></table>"
      ],
      "text/plain": [
       "<pandas.io.formats.style.Styler at 0x277ef38ae88>"
      ]
     },
     "execution_count": 18,
     "metadata": {},
     "output_type": "execute_result"
    }
   ],
   "source": [
    "corrs_clustered.style.background_gradient().set_precision(2)"
   ]
  },
  {
   "cell_type": "markdown",
   "metadata": {},
   "source": [
    "The darker the color, the higher the correlation. The lightest colors are negative correlations. \n",
    "\n",
    "Notice that several variables exhibit correlations quite close to 0. It is a good idea to see if these correlations are even significant. "
   ]
  },
  {
   "cell_type": "markdown",
   "metadata": {},
   "source": [
    "![](Mod3_Lab1_-_Correlation_files/figure-markdown_strict/unnamed-chunk-20-1.png)\n",
    "\n",
    "We can also add a grid of *p*-values with `p.mat=` and tell the function\n",
    "to \"X\" out anything not &lt; .05 by adding `sig.level = .05`:"
   ]
  },
  {
   "cell_type": "code",
   "execution_count": 19,
   "metadata": {},
   "outputs": [
    {
     "name": "stdout",
     "output_type": "stream",
     "text": [
      "\n",
      "\n",
      "Significance of correlations with Trust_Gov\n",
      "Correlation with Happiness = 0.429 with CI of 0.377 to 0.478 and p_value 2.538e-08\n",
      "Correlation with GDP = 0.351 with CI of 0.295 to 0.404 and p_value 7.567e-06\n",
      "Correlation with Family = 0.232 with CI of 0.172 to 0.290 and p_value 3.700e-03\n",
      "Correlation with Life_Expect = 0.280 with CI of 0.222 to 0.336 and p_value 4.229e-04\n",
      "Correlation with Freedom = 0.499 with CI of 0.451 to 0.544 and p_value 3.810e-11\n",
      "Correlation with Generosity = 0.294 with CI of 0.236 to 0.350 and p_value 2.031e-04\n",
      "Correlation with Dystopia = -0.023 with CI of -0.085 to 0.039 and p_value 7.787e-01\n",
      "Correlation with Life_Expect2 = 0.291 with CI of 0.233 to 0.347 and p_value 2.364e-04\n",
      "Correlation with Life_Expect2_sqrt = -0.291 with CI of -0.347 to -0.233 and p_value 2.364e-04\n",
      "\n",
      "\n",
      "Significance of correlations with Generosity\n",
      "Correlation with Happiness = 0.155 with CI of 0.094 to 0.215 and p_value 5.373e-02\n",
      "Correlation with GDP = -0.019 with CI of -0.081 to 0.043 and p_value 8.144e-01\n",
      "Correlation with Family = 0.052 with CI of -0.010 to 0.113 and p_value 5.230e-01\n",
      "Correlation with Life_Expect = 0.063 with CI of 0.001 to 0.125 and p_value 4.347e-01\n",
      "Correlation with Freedom = 0.316 with CI of 0.259 to 0.371 and p_value 6.161e-05\n",
      "Correlation with Trust_Gov = 0.294 with CI of 0.236 to 0.350 and p_value 2.031e-04\n",
      "Correlation with Dystopia = -0.117 with CI of -0.177 to -0.055 and p_value 1.484e-01\n",
      "Correlation with Life_Expect2 = 0.068 with CI of 0.006 to 0.129 and p_value 4.020e-01\n",
      "Correlation with Life_Expect2_sqrt = -0.068 with CI of -0.129 to -0.006 and p_value 4.020e-01\n",
      "\n",
      "\n",
      "Significance of correlations with Dystopia\n",
      "Correlation with Happiness = 0.475 with CI of 0.426 to 0.522 and p_value 4.102e-10\n",
      "Correlation with GDP = 0.024 with CI of -0.038 to 0.086 and p_value 7.648e-01\n",
      "Correlation with Family = 0.071 with CI of 0.009 to 0.132 and p_value 3.833e-01\n",
      "Correlation with Life_Expect = 0.055 with CI of -0.007 to 0.117 and p_value 4.970e-01\n",
      "Correlation with Freedom = 0.082 with CI of 0.020 to 0.143 and p_value 3.109e-01\n",
      "Correlation with Generosity = -0.117 with CI of -0.177 to -0.055 and p_value 1.484e-01\n",
      "Correlation with Trust_Gov = -0.023 with CI of -0.085 to 0.039 and p_value 7.787e-01\n",
      "Correlation with Life_Expect2 = 0.058 with CI of -0.004 to 0.120 and p_value 4.724e-01\n",
      "Correlation with Life_Expect2_sqrt = -0.058 with CI of -0.120 to 0.004 and p_value 4.724e-01\n"
     ]
    }
   ],
   "source": [
    "def correlation_sig2(df, col1, col2):\n",
    "    pearson_cor = ss.pearsonr(x = df[col1], y = dat[col2]) \n",
    "    conf_ints = r_conf_int(pearson_cor[0], 0.05, 1000)\n",
    "    print('Correlation with ' + col2 + ' = %4.3f with CI of %4.3f to %4.3f and p_value %4.3e' \n",
    "        % (pearson_cor[0], conf_ints[0], conf_ints[1], pearson_cor[1]))\n",
    "\n",
    "def test_significance(df, col_list):\n",
    "    cols = df.columns\n",
    "    for col1 in col_list: \n",
    "        print('\\n')\n",
    "        print('Significance of correlations with ' + col1)\n",
    "        for col2 in cols: \n",
    "            if(col1 != col2):\n",
    "                correlation_sig2(df, col1, col2)  \n",
    "\n",
    "test_cols = ['Trust_Gov', 'Generosity', 'Dystopia']\n",
    "test_significance(dat, test_cols)"
   ]
  },
  {
   "cell_type": "markdown",
   "metadata": {},
   "source": [
    "Most the the correlations with Trust_Gov are significant. However, most correlations with Generosity and Dystopia are not. The lack of significance can been seen by confidence intervals that straddle 0.0 and have large p-values. \n",
    "\n",
    "There you have it. There are many great ways to illustrate correlations\n",
    "among data.\n",
    "\n",
    "Conclusion\n",
    "==========\n",
    "\n",
    "Using the correlation analysis, we have both learned to find clusters of\n",
    "relationships among data and to estimate individual correlations and\n",
    "test them for significance. If we had a specific variable we wanted to\n",
    "study in greater detail, we could graduate to regression, which we will\n",
    "do in the next lab."
   ]
  }
 ],
 "metadata": {
  "kernelspec": {
   "display_name": "Python 3",
   "language": "python",
   "name": "python3"
  },
  "language_info": {
   "codemirror_mode": {
    "name": "ipython",
    "version": 3
   },
   "file_extension": ".py",
   "mimetype": "text/x-python",
   "name": "python",
   "nbconvert_exporter": "python",
   "pygments_lexer": "ipython3",
   "version": "3.7.5"
  }
 },
 "nbformat": 4,
 "nbformat_minor": 2
}
